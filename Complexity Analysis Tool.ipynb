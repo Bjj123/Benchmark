{
 "cells": [
  {
   "cell_type": "markdown",
   "metadata": {},
   "source": [
    "# Model Complexity Analysis Tool"
   ]
  },
  {
   "cell_type": "markdown",
   "metadata": {},
   "source": [
    "目前支持 Conv2D / DepthwiseConv2D / SeparableConv2D 的时间复杂度统计。"
   ]
  },
  {
   "cell_type": "code",
   "execution_count": 1,
   "metadata": {
    "collapsed": false
   },
   "outputs": [
    {
     "name": "stderr",
     "output_type": "stream",
     "text": [
      "Using TensorFlow backend.\n"
     ]
    }
   ],
   "source": [
    "from keras import backend as K\n",
    "import numpy as np\n",
    "\n",
    "def model_analysis(model, log_level=1):\n",
    "    ops = 0\n",
    "    n_std_conv = 0\n",
    "    n_dw_conv = 0\n",
    "    n_pw_conv = 0\n",
    "    for l in model.layers:\n",
    "        layer_type = l.__class__.__name__\n",
    "\n",
    "        if layer_type == 'Conv2D':\n",
    "            output_shape = int(l.output.shape[1])\n",
    "            input_channel = int(l.input.shape[-1])\n",
    "            output_channel = int(l.output.shape[-1])\n",
    "            k_size = l.kernel_size[0]\n",
    "            ops += (output_shape ** 2) * (k_size ** 2) * input_channel * output_channel    # STD CONV\n",
    "            n_std_conv += 1\n",
    "            if k_size == 1:\n",
    "                n_pw_conv += 1\n",
    "            if log_level > 1:\n",
    "                print(output_shape, '*', output_shape, '*', k_size, '*', k_size, '*', input_channel, '*', output_channel)\n",
    "\n",
    "        elif layer_type == 'DepthwiseConv2D':\n",
    "            output_shape = int(l.output.shape[1])\n",
    "            input_channel = int(l.input.shape[-1])\n",
    "            k_size = l.kernel_size[0]\n",
    "            ops += (output_shape ** 2) * (k_size ** 2) * input_channel    # DW\n",
    "            n_dw_conv += 1\n",
    "            if log_level > 1:\n",
    "                print(output_shape, '*', output_shape, '*', k_size, '*', k_size, '*', input_channel)\n",
    "                \n",
    "        elif layer_type == 'SeparableConv2D':\n",
    "            output_shape = int(l.output.shape[1])\n",
    "            input_channel = int(l.input.shape[-1])\n",
    "            k_size = l.kernel_size[0]\n",
    "            n_dw_conv += 1\n",
    "            n_std_conv += 1\n",
    "            n_pw_conv += 1\n",
    "            ops += (output_shape ** 2) * (k_size ** 2) * input_channel    # DW\n",
    "            ops += (output_shape ** 2) * input_channel * output_channel   # PW\n",
    "            \n",
    "        elif layer_type == 'Add':\n",
    "            output_shape = l.output_shape[1:]\n",
    "            ops += np.prod(output_shape)\n",
    "            if log_level > 1:\n",
    "                print(output_shape[0], '*', output_shape[1], '*', output_shape[2])\n",
    "                \n",
    "    trainable = int(np.sum([K.count_params(p) for p in set(model.trainable_weights)]))\n",
    "    non_trainable = int(np.sum([K.count_params(p) for p in set(model.non_trainable_weights)]))\n",
    "    \n",
    "    if log_level > 0:\n",
    "        print('\\n- Model Name \\t\\t= %s' % model.name)\n",
    "        print('- Convolution Layers \\t= %d (%d are Depth-wise, %d are Point-wise)' % (n_std_conv + n_dw_conv, n_dw_conv, n_pw_conv))\n",
    "        print('- Time Complexity \\t= %.1f MFLOPS' % (ops / 10 ** 6))\n",
    "        print('- Space Complexity \\t= %.1f MParams\\n' % ((trainable + non_trainable) / 10 **6))"
   ]
  },
  {
   "cell_type": "markdown",
   "metadata": {},
   "source": [
    "## Example"
   ]
  },
  {
   "cell_type": "code",
   "execution_count": 2,
   "metadata": {
    "collapsed": false
   },
   "outputs": [],
   "source": [
    "from keras.applications import MobileNet, InceptionV3, Xception, InceptionResNetV2, VGG16, VGG19, ResNet50"
   ]
  },
  {
   "cell_type": "code",
   "execution_count": 4,
   "metadata": {
    "collapsed": false
   },
   "outputs": [
    {
     "name": "stdout",
     "output_type": "stream",
     "text": [
      "\n",
      "- Model Name \t\t= mobilenet_1.00_224\n",
      "- Convolution Layers \t= 28 (13 are Depth-wise, 14 are Point-wise)\n",
      "- Time Complexity \t= 568.7 MFLOPS\n",
      "- Space Complexity \t= 4.3 MParams\n",
      "\n",
      "\n",
      "- Model Name \t\t= inception_v3\n",
      "- Convolution Layers \t= 94 (0 are Depth-wise, 57 are Point-wise)\n",
      "- Time Complexity \t= 9697.5 MFLOPS\n",
      "- Space Complexity \t= 23.9 MParams\n",
      "\n",
      "\n",
      "- Model Name \t\t= xception\n",
      "- Convolution Layers \t= 74 (34 are Depth-wise, 38 are Point-wise)\n",
      "- Time Complexity \t= 6900.9 MFLOPS\n",
      "- Space Complexity \t= 22.9 MParams\n",
      "\n",
      "\n",
      "- Model Name \t\t= inception_resnet_v2\n",
      "- Convolution Layers \t= 244 (0 are Depth-wise, 170 are Point-wise)\n",
      "- Time Complexity \t= 20066.7 MFLOPS\n",
      "- Space Complexity \t= 55.9 MParams\n",
      "\n"
     ]
    }
   ],
   "source": [
    "mobilenet = MobileNet(alpha=1, weights=None)\n",
    "inceptionv3 = InceptionV3(input_shape=(299, 299, 3))\n",
    "xception = Xception(input_shape=(299, 299, 3))\n",
    "inceptionresnet = InceptionResNetV2(input_shape=(299, 299, 3))\n",
    "\n",
    "model_analysis(mobilenet)\n",
    "model_analysis(inceptionv3)\n",
    "model_analysis(xception)\n",
    "model_analysis(inceptionresnet)"
   ]
  },
  {
   "cell_type": "code",
   "execution_count": 3,
   "metadata": {
    "collapsed": false
   },
   "outputs": [
    {
     "name": "stdout",
     "output_type": "stream",
     "text": [
      "\n",
      "- Model Name \t\t= vgg16\n",
      "- Convolution Layers \t= 13 (0 are Depth-wise, 0 are Point-wise)\n",
      "- Time Complexity \t= 15346.6 MFLOPS\n",
      "- Space Complexity \t= 138.4 MParams\n",
      "\n",
      "\n",
      "- Model Name \t\t= vgg19\n",
      "- Convolution Layers \t= 16 (0 are Depth-wise, 0 are Point-wise)\n",
      "- Time Complexity \t= 19508.4 MFLOPS\n",
      "- Space Complexity \t= 143.7 MParams\n",
      "\n",
      "\n",
      "- Model Name \t\t= resnet50\n",
      "- Convolution Layers \t= 53 (0 are Depth-wise, 36 are Point-wise)\n",
      "- Time Complexity \t= 3837.7 MFLOPS\n",
      "- Space Complexity \t= 25.6 MParams\n",
      "\n"
     ]
    }
   ],
   "source": [
    "vgg16 = VGG16()\n",
    "vgg19 = VGG19()\n",
    "resnet50 = ResNet50()\n",
    "\n",
    "model_analysis(vgg16)\n",
    "model_analysis(vgg19)\n",
    "model_analysis(resnet50)"
   ]
  },
  {
   "cell_type": "code",
   "execution_count": 5,
   "metadata": {
    "collapsed": false,
    "scrolled": false
   },
   "outputs": [
    {
     "name": "stdout",
     "output_type": "stream",
     "text": [
      "112 * 112 * 3 * 3 * 3 * 32\n",
      "112 * 112 * 3 * 3 * 32\n",
      "112 * 112 * 1 * 1 * 32 * 64\n",
      "56 * 56 * 3 * 3 * 64\n",
      "56 * 56 * 1 * 1 * 64 * 128\n",
      "56 * 56 * 3 * 3 * 128\n",
      "56 * 56 * 1 * 1 * 128 * 128\n",
      "28 * 28 * 3 * 3 * 128\n",
      "28 * 28 * 1 * 1 * 128 * 256\n",
      "28 * 28 * 3 * 3 * 256\n",
      "28 * 28 * 1 * 1 * 256 * 256\n",
      "14 * 14 * 3 * 3 * 256\n",
      "14 * 14 * 1 * 1 * 256 * 512\n",
      "14 * 14 * 3 * 3 * 512\n",
      "14 * 14 * 1 * 1 * 512 * 512\n",
      "14 * 14 * 3 * 3 * 512\n",
      "14 * 14 * 1 * 1 * 512 * 512\n",
      "14 * 14 * 3 * 3 * 512\n",
      "14 * 14 * 1 * 1 * 512 * 512\n",
      "14 * 14 * 3 * 3 * 512\n",
      "14 * 14 * 1 * 1 * 512 * 512\n",
      "14 * 14 * 3 * 3 * 512\n",
      "14 * 14 * 1 * 1 * 512 * 512\n",
      "7 * 7 * 3 * 3 * 512\n",
      "7 * 7 * 1 * 1 * 512 * 1024\n",
      "7 * 7 * 3 * 3 * 1024\n",
      "7 * 7 * 1 * 1 * 1024 * 1024\n",
      "1 * 1 * 1 * 1 * 1024 * 1000\n",
      "\n",
      "- Model Name \t\t= mobilenet_1.00_224\n",
      "- Convolution Layers \t= 28 (13 are Depth-wise)\n",
      "- Time Complexity \t= 568.7 MFLOPS\n",
      "- Space Complexity \t= 4.3 MParams\n",
      "\n"
     ]
    }
   ],
   "source": [
    "model_analysis(mobilenet, 2)"
   ]
  }
 ],
 "metadata": {
  "kernelspec": {
   "display_name": "Python 3",
   "language": "python",
   "name": "python3"
  },
  "language_info": {
   "codemirror_mode": {
    "name": "ipython",
    "version": 3
   },
   "file_extension": ".py",
   "mimetype": "text/x-python",
   "name": "python",
   "nbconvert_exporter": "python",
   "pygments_lexer": "ipython3",
   "version": "3.5.4"
  }
 },
 "nbformat": 4,
 "nbformat_minor": 2
}
